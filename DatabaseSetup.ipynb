{
 "cells": [
  {
   "cell_type": "code",
   "execution_count": 6,
   "metadata": {},
   "outputs": [
    {
     "data": {
      "text/plain": [
       "True"
      ]
     },
     "execution_count": 6,
     "metadata": {},
     "output_type": "execute_result"
    }
   ],
   "source": [
    "import pickle\n",
    "import psycopg2\n",
    "import os\n",
    "from dotenv import load_dotenv\n",
    "\n",
    "load_dotenv()"
   ]
  },
  {
   "cell_type": "code",
   "execution_count": 3,
   "metadata": {},
   "outputs": [
    {
     "name": "stdout",
     "output_type": "stream",
     "text": [
      "9655\n"
     ]
    }
   ],
   "source": [
    "#load data to save to database\n",
    "with open('parsed_match_data.pkl', 'rb') as f:\n",
    "    parsed_match_data = pickle.load(f)\n",
    "\n",
    "print(len(parsed_match_data[0]))"
   ]
  },
  {
   "cell_type": "code",
   "execution_count": 29,
   "metadata": {},
   "outputs": [],
   "source": [
    "def create_match_data_table():\n",
    "    #create connection to db\n",
    "    conn = psycopg2.connect(\n",
    "        database = os.getenv('DB_NAME'),\n",
    "        host = os.getenv('DB_HOST'),\n",
    "        user = os.getenv('DB_USER'),\n",
    "        password = os.getenv('DB_PASSWORD'),\n",
    "        port = os.getenv('DB_PORT')\n",
    "    )\n",
    "\n",
    "    cursor = conn.cursor()\n",
    "    \n",
    "    try:\n",
    "        cursor.execute(\"\"\"\n",
    "            CREATE TABLE match_data (\n",
    "                id SERIAL PRIMARY KEY,\n",
    "                region VARCHAR(10),\n",
    "                game_mode VARCHAR(50),\n",
    "                patch VARCHAR(50),\n",
    "                blue_team TEXT[],\n",
    "                red_team TEXT[],\n",
    "                winning_team INTEGER\n",
    "            )\n",
    "        \"\"\")\n",
    "    except (Exception, psycopg2.DatabaseError) as error:\n",
    "        print(error)\n",
    "    conn.commit()\n",
    "\n",
    "    cursor.close()\n",
    "    conn.close()\n",
    "\n",
    "create_match_data_table()"
   ]
  },
  {
   "cell_type": "code",
   "execution_count": 30,
   "metadata": {},
   "outputs": [],
   "source": [
    "def insert_match_data(parsed_match_data):\n",
    "    conn = psycopg2.connect(\n",
    "        database = os.getenv('DB_NAME'),\n",
    "        host = os.getenv('DB_HOST'),\n",
    "        user = os.getenv('DB_USER'),\n",
    "        password = os.getenv('DB_PASSWORD'),\n",
    "        port = os.getenv('5432')\n",
    "    )\n",
    "\n",
    "    cursor = conn.cursor()\n",
    "\n",
    "    insert_sql = \"\"\"\n",
    "        INSERT INTO match_data (region, game_mode, patch, blue_team, red_team, winning_team)\n",
    "        VALUES (%s, %s, %s, %s, %s, %s)\n",
    "    \"\"\"\n",
    "    try:\n",
    "        cursor.executemany(insert_sql,parsed_match_data)\n",
    "        conn.commit()\n",
    "    except (Exception, psycopg2.DatabaseError) as error:\n",
    "        print(error)\n",
    "\n",
    "    conn.close()\n",
    "    cursor.close()\n",
    "insert_match_data(parsed_match_data[0])"
   ]
  },
  {
   "cell_type": "code",
   "execution_count": 34,
   "metadata": {},
   "outputs": [
    {
     "name": "stdout",
     "output_type": "stream",
     "text": [
      "(1, 'NA1', 'ARAM', '14.13.596.7996', ['Rell', 'Velkoz', 'Samira', 'TwistedFate', 'Bard'], ['Tristana', 'Lux', 'Neeko', 'Lulu', 'Belveth'], 0)\n"
     ]
    }
   ],
   "source": [
    "#test database to make sure data is inside\n",
    "def get_match_data():\n",
    "    conn = psycopg2.connect(\n",
    "        database = os.getenv('DB_NAME'),\n",
    "        host = os.getenv('DB_HOST'),\n",
    "        user = os.getenv('DB_USER'),\n",
    "        password = os.getenv('DB_PASSWORD'),\n",
    "        port = os.getenv('5432')\n",
    "    )\n",
    "\n",
    "    cursor = conn.cursor()\n",
    "\n",
    "    query_sql = \"SELECT * FROM match_data LIMIT 1\"\n",
    "\n",
    "    try:\n",
    "        cursor.execute(query_sql)\n",
    "        row = cursor.fetchone()\n",
    "\n",
    "        if row is not None:\n",
    "            print(row)\n",
    "    except (Exception, psycopg2.DatabaseError) as error:\n",
    "        print(error)\n",
    "\n",
    "get_match_data()"
   ]
  }
 ],
 "metadata": {
  "kernelspec": {
   "display_name": ".venv",
   "language": "python",
   "name": "python3"
  },
  "language_info": {
   "codemirror_mode": {
    "name": "ipython",
    "version": 3
   },
   "file_extension": ".py",
   "mimetype": "text/x-python",
   "name": "python",
   "nbconvert_exporter": "python",
   "pygments_lexer": "ipython3",
   "version": "3.12.0"
  }
 },
 "nbformat": 4,
 "nbformat_minor": 2
}
