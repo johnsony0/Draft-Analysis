{
 "cells": [
  {
   "cell_type": "code",
   "execution_count": 1,
   "metadata": {},
   "outputs": [
    {
     "data": {
      "text/plain": [
       "True"
      ]
     },
     "execution_count": 1,
     "metadata": {},
     "output_type": "execute_result"
    }
   ],
   "source": [
    "#imports\n",
    "import os\n",
    "import psycopg2\n",
    "import pandas as pd\n",
    "from dotenv import load_dotenv\n",
    "from sklearn.preprocessing import MultiLabelBinarizer\n",
    "\n",
    "load_dotenv()\n"
   ]
  },
  {
   "cell_type": "code",
   "execution_count": 2,
   "metadata": {},
   "outputs": [],
   "source": [
    "#gets data collected into a csv\n",
    "def get_csv(region='NA1',game_mode='ARAM',patch='14.13'):\n",
    "    conn = psycopg2.connect(\n",
    "        database = os.getenv('DB_NAME'),\n",
    "        host = os.getenv('DB_HOST'),\n",
    "        user = os.getenv('DB_USER'),\n",
    "        password = os.getenv('DB_PASSWORD'),\n",
    "        port = os.getenv('5432')\n",
    "    )\n",
    "\n",
    "    os.makedirs('MatchData', exist_ok=True)\n",
    "    csv_path = f'MatchData/{region}_{game_mode}_{patch}.csv'\n",
    "\n",
    "    cursor = conn.cursor()\n",
    "    patch = patch+'%'\n",
    "\n",
    "    query_sql = \"\"\"SELECT * \n",
    "    FROM match_data \n",
    "    WHERE region = %s \n",
    "    AND game_mode = %s \n",
    "    AND patch LIKE %s\"\"\"\n",
    "\n",
    "    query = cursor.mogrify(query_sql,(region, game_mode,patch))\n",
    "    query = query.decode('utf-8')\n",
    "\n",
    "    try:\n",
    "        if os.path.exists(csv_path):\n",
    "            print(\"Csv found\")\n",
    "        else:\n",
    "            with open(csv_path,'w') as f:\n",
    "                cursor.copy_expert(\"COPY ({}) TO STDOUT WITH CSV HEADER\".format(query),f)\n",
    "            print(\"Copy to csv successful\")\n",
    "\n",
    "    except (Exception, psycopg2.DatabaseError) as error:\n",
    "        print(error)\n"
   ]
  },
  {
   "cell_type": "code",
   "execution_count": 25,
   "metadata": {},
   "outputs": [],
   "source": [
    "#features extraction, encoding and data verification\n",
    "def get_data(region='NA1',game_mode='ARAM',patch='14.13'):\n",
    "    csv_path = f'MatchData/{region}_{game_mode}_{patch}.csv'\n",
    "    if not os.path.exists(csv_path):\n",
    "        print(f\"CSV file not found at {csv_path}\")\n",
    "        return None\n",
    "    \n",
    "    df = pd.read_csv(csv_path)[[\"blue_team\",\"red_team\",\"winning_team\"]]\n",
    "\n",
    "    if df.isnull().any().any():\n",
    "        df = df.dropna()\n",
    "\n",
    "    df[\"blue_team\"] = list(df[\"blue_team\"])\n",
    "    print(df[\"blue_team\"][0][1])\n",
    "    print(df.head())\n",
    "\n",
    "    return df"
   ]
  },
  {
   "cell_type": "code",
   "execution_count": 26,
   "metadata": {},
   "outputs": [
    {
     "name": "stdout",
     "output_type": "stream",
     "text": [
      "Csv found\n",
      "R\n",
      "                               blue_team                             red_team  \\\n",
      "0  {Rell,Velkoz,Samira,TwistedFate,Bard}    {Tristana,Lux,Neeko,Lulu,Belveth}   \n",
      "1        {Varus,Lulu,Jhin,Veigar,Viktor}     {Ekko,Maokai,Ashe,KogMaw,RekSai}   \n",
      "2   {Annie,Darius,Smolder,Hwei,Aphelios}  {Belveth,Quinn,LeeSin,Sylas,Lucian}   \n",
      "3  {Aphelios,Malphite,Draven,Sett,Janna}   {Bard,Kindred,Swain,Nautilus,Olaf}   \n",
      "4       {Syndra,Karma,Kalista,Pyke,Sona}    {Garen,Yasuo,TahmKench,Lulu,Nami}   \n",
      "\n",
      "   winning_team  \n",
      "0             0  \n",
      "1             0  \n",
      "2             0  \n",
      "3             0  \n",
      "4             0  \n"
     ]
    }
   ],
   "source": [
    "def main(region,game_mode,patch):\n",
    "    get_csv(region=region,game_mode=game_mode,patch=patch)\n",
    "    df = get_data(region=region,game_mode=game_mode,patch=patch)\n",
    "\n",
    "main('NA1','ARAM','14.13')"
   ]
  }
 ],
 "metadata": {
  "kernelspec": {
   "display_name": ".venv",
   "language": "python",
   "name": "python3"
  },
  "language_info": {
   "codemirror_mode": {
    "name": "ipython",
    "version": 3
   },
   "file_extension": ".py",
   "mimetype": "text/x-python",
   "name": "python",
   "nbconvert_exporter": "python",
   "pygments_lexer": "ipython3",
   "version": "3.11.6"
  }
 },
 "nbformat": 4,
 "nbformat_minor": 2
}
