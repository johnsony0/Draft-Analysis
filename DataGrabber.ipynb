{
 "cells": [
  {
   "cell_type": "code",
   "execution_count": 1,
   "metadata": {},
   "outputs": [],
   "source": [
    "import requests\n",
    "import os\n",
    "import time\n",
    "import pickle\n",
    "from dotenv import load_dotenv\n",
    "from collections import deque"
   ]
  },
  {
   "cell_type": "code",
   "execution_count": 2,
   "metadata": {},
   "outputs": [
    {
     "name": "stdout",
     "output_type": "stream",
     "text": [
      "RGAPI-d791010a-f767-4046-93ad-2d9a2605e48b\n"
     ]
    }
   ],
   "source": [
    "load_dotenv()\n",
    "\n",
    "DEFAULT_REGION_CODE = 'NA1'\n",
    "DEFAULT_REGION = 'americas'\n",
    "MY_PUUID = 'cgchml5db7FVLW6cfygY7dmICGAp6hU6OPeRX809alh99kdQW0m1I_Uy_RbVbNj0cB6EJZGL0K_5ew'\n",
    "TEST_MATCH_ID = 'NA1_5031446976'\n",
    "RATE_LIMITS_PER_SECOND = 20\n",
    "RIOT_API_KEY = os.getenv(\"RIOT_API_KEY\")"
   ]
  },
  {
   "cell_type": "code",
   "execution_count": 60,
   "metadata": {},
   "outputs": [],
   "source": [
    "#gets matches from users\n",
    "def get_user_matches(puuid = None, region=DEFAULT_REGION):\n",
    "    if not puuid:\n",
    "        raise Exception('Please Select puuid')\n",
    "    \n",
    "    api_url = f'https://{region}.api.riotgames.com/lol/match/v5/matches/by-puuid/{puuid}/ids'\n",
    "    headers = {\n",
    "        'X-Riot-Token' : RIOT_API_KEY,\n",
    "    }\n",
    "\n",
    "    try:\n",
    "        response = requests.get(api_url,headers=headers)\n",
    "        response.raise_for_status()\n",
    "        return response.json()\n",
    "    except requests.exceptions.RequestException as e:\n",
    "        print(f'Error Occured: {e}')"
   ]
  },
  {
   "cell_type": "code",
   "execution_count": 61,
   "metadata": {},
   "outputs": [],
   "source": [
    "#gets data from match\n",
    "def get_match_data(match_id = None, region=DEFAULT_REGION):\n",
    "    if not match_id:\n",
    "        raise Exception('Please Select Match ID')\n",
    "    \n",
    "    api_url = f'https://{region}.api.riotgames.com/lol/match/v5/matches/{match_id}'\n",
    "    headers = {\n",
    "        'X-Riot-Token' : RIOT_API_KEY,\n",
    "    }\n",
    "\n",
    "    try:\n",
    "        response = requests.get(api_url,headers=headers)\n",
    "        response.raise_for_status()\n",
    "        return response.json()\n",
    "    except requests.exceptions.RequestException as e:\n",
    "        print(f'Error Occured: {e}')\n"
   ]
  },
  {
   "cell_type": "code",
   "execution_count": 62,
   "metadata": {},
   "outputs": [],
   "source": [
    "#starts with initial puuid, gets recent 20 matches from that puuid, and gets all unique users from those matches, repeat with the new unique users\n",
    "def get_unique_users(initial_puuid = None, region=DEFAULT_REGION):\n",
    "    unique_users_set = {initial_puuid}\n",
    "    unique_users_list = list(unique_users_set)\n",
    "    current_index = 0\n",
    "    \n",
    "    while len(unique_users_set)<=500:\n",
    "        #cid stands for current user id \n",
    "        print(len(unique_users_set))\n",
    "        cid = unique_users_list[current_index]\n",
    "        current_index+=1\n",
    "\n",
    "        try:\n",
    "            match_history = get_user_matches(cid)\n",
    "            for match_id in match_history:\n",
    "                match_data = get_match_data(match_id)\n",
    "                players = match_data['metadata']['participants']\n",
    "                for player in players:\n",
    "                    if player not in unique_users_set:\n",
    "                        unique_users_set.add(player)\n",
    "                        unique_users_list.append(player)\n",
    "        \n",
    "        except requests.exceptions.RequestException as e:\n",
    "            print(f'Failed to retrieve data for user {cid}: {e}')\n",
    "    return list(unique_users_set)"
   ]
  },
  {
   "cell_type": "code",
   "execution_count": 63,
   "metadata": {},
   "outputs": [],
   "source": [
    "#gets first 20 matches of each player in unique players list\n",
    "def get_unique_matches(unique_users):\n",
    "    unique_matches_set = set()\n",
    "\n",
    "    for i,puuid in enumerate(unique_users):\n",
    "        if i % 100 == 0:\n",
    "            print(len(unique_matches_set))\n",
    "        try:\n",
    "            match_history = get_user_matches(puuid)\n",
    "\n",
    "            for match_id in match_history:\n",
    "                unique_matches_set.add(match_id)\n",
    "                    \n",
    "        except requests.exceptions.RequestException as e:\n",
    "            print(f'Failed to retrieve data for user {puuid}: {e}')\n",
    "        \n",
    "        time.sleep(1)\n",
    "    return list(unique_matches_set)"
   ]
  },
  {
   "cell_type": "code",
   "execution_count": 111,
   "metadata": {},
   "outputs": [],
   "source": [
    "#get list of unique users and match ids and save it for later use\n",
    "unique_users = get_unique_users(MY_PUUID)\n",
    "print(len(unique_users))\n",
    "\n",
    "unique_matches = get_unique_matches(unique_users)\n",
    "print(len(unique_matches))\n",
    "\n",
    "#saving unique_users and unique_matches\n",
    "with open('unique_users_1.pkl','wb') as f:\n",
    "    pickle.dump(unique_users,f)\n",
    "\n",
    "with open('unique_matches_1.pkl','wb') as f:\n",
    "    pickle.dump(unique_matches,f)"
   ]
  },
  {
   "cell_type": "code",
   "execution_count": 83,
   "metadata": {},
   "outputs": [
    {
     "name": "stdout",
     "output_type": "stream",
     "text": [
      "624\n",
      "10726\n"
     ]
    }
   ],
   "source": [
    "#loading unique_users and unique_matches\n",
    "with open('unique_users.pkl', 'rb') as f:\n",
    "    unique_users_list = pickle.load(f)\n",
    "\n",
    "with open('unique_matches.pkl', 'rb') as f:\n",
    "    unique_matches_list = pickle.load(f)\n",
    "\n",
    "#test load\n",
    "print(len(unique_users_list))\n",
    "print(len(unique_matches_list))"
   ]
  },
  {
   "cell_type": "code",
   "execution_count": 64,
   "metadata": {},
   "outputs": [],
   "source": [
    "def parse_data(match_data):\n",
    "    region = match_data['info']['platformId']\n",
    "    version = match_data[\"info\"][\"gameVersion\"]\n",
    "    game_mode = match_data[\"info\"][\"gameMode\"]\n",
    "    blue_team = [match_data['info']['participants'][i]['championName'] for i in range(5)]\n",
    "    red_team = [match_data['info']['participants'][i]['championName'] for i in range(5, 10)]\n",
    "    winning_team =  0 if match_data['info']['participants'][0]['win'] else 1\n",
    "    \n",
    "    return region, game_mode, version, blue_team, red_team, winning_team\n"
   ]
  },
  {
   "cell_type": "code",
   "execution_count": 69,
   "metadata": {},
   "outputs": [],
   "source": [
    "def parse_match_list(match_list):\n",
    "    parsed_match_data = []\n",
    "    failed_matches = []  \n",
    "    for match_id in match_list:\n",
    "        try:\n",
    "            match_data = get_match_data(match_id)\n",
    "            if match_data['info']['gameMode'] in ('ARAM', 'CLASSIC'):\n",
    "                parsed_data = parse_data(match_data)\n",
    "                parsed_match_data.append(parsed_data)\n",
    "        except Exception as e:\n",
    "            print(f\"An error occurred for match {match_id}: {e}\")\n",
    "            failed_matches.append(match_id)\n",
    "        time.sleep(0.75)\n",
    "    return parsed_match_data, failed_matches"
   ]
  },
  {
   "cell_type": "code",
   "execution_count": 70,
   "metadata": {},
   "outputs": [
    {
     "name": "stdout",
     "output_type": "stream",
     "text": [
      "Error Occured: 503 Server Error: Service Unavailable for url: https://americas.api.riotgames.com/lol/match/v5/matches/NA1_5029386875\n",
      "An error occurred for match NA1_5029386875: 'NoneType' object is not subscriptable\n"
     ]
    }
   ],
   "source": [
    "parsed_match_data = parse_match_list(unique_matches_list)\n",
    "with open('parsed_match_data.pkl','wb') as f:\n",
    "    pickle.dump(parsed_match_data,f)"
   ]
  },
  {
   "cell_type": "code",
   "execution_count": 44,
   "metadata": {},
   "outputs": [
    {
     "name": "stdout",
     "output_type": "stream",
     "text": [
      "20\n"
     ]
    }
   ],
   "source": [
    "with open('parsed_match_data.pkl', 'rb') as f:\n",
    "    parsed_match_data = pickle.load(f)\n",
    "\n",
    "print(len(parsed_match_data))"
   ]
  },
  {
   "cell_type": "markdown",
   "metadata": {},
   "source": []
  }
 ],
 "metadata": {
  "kernelspec": {
   "display_name": "Python 3",
   "language": "python",
   "name": "python3"
  },
  "language_info": {
   "codemirror_mode": {
    "name": "ipython",
    "version": 3
   },
   "file_extension": ".py",
   "mimetype": "text/x-python",
   "name": "python",
   "nbconvert_exporter": "python",
   "pygments_lexer": "ipython3",
   "version": "3.12.0"
  }
 },
 "nbformat": 4,
 "nbformat_minor": 2
}
