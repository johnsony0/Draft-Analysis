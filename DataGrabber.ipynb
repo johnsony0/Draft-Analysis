{
 "cells": [
  {
   "cell_type": "code",
   "execution_count": 110,
   "metadata": {},
   "outputs": [],
   "source": [
    "import requests\n",
    "import os\n",
    "import time\n",
    "import pickle\n",
    "from dotenv import load_dotenv\n",
    "from collections import deque"
   ]
  },
  {
   "cell_type": "code",
   "execution_count": 103,
   "metadata": {},
   "outputs": [],
   "source": [
    "load_dotenv()\n",
    "\n",
    "DEFAULT_REGION_CODE = 'NA1'\n",
    "DEFAULT_REGION = 'americas'\n",
    "MY_PUUID = 'cgchml5db7FVLW6cfygY7dmICGAp6hU6OPeRX809alh99kdQW0m1I_Uy_RbVbNj0cB6EJZGL0K_5ew'\n",
    "TEST_MATCH_ID = 'NA1_5031446976'\n",
    "RATE_LIMITS_PER_SECOND = 20\n",
    "RIOT_API_KEY = os.getenv(\"RIOT_API_KEY\")"
   ]
  },
  {
   "cell_type": "code",
   "execution_count": 58,
   "metadata": {},
   "outputs": [],
   "source": [
    "#gets matches from users\n",
    "def get_user_matches(puuid = None, region=DEFAULT_REGION):\n",
    "    if not puuid:\n",
    "        raise Exception('Please Select puuid')\n",
    "    \n",
    "    api_url = f'https://{region}.api.riotgames.com/lol/match/v5/matches/by-puuid/{puuid}/ids'\n",
    "    headers = {\n",
    "        'X-Riot-Token' : RIOT_API_KEY,\n",
    "    }\n",
    "\n",
    "    try:\n",
    "        response = requests.get(api_url,headers=headers)\n",
    "        response.raise_for_status()\n",
    "        return response.json()\n",
    "    except requests.exceptions.RequestException as e:\n",
    "        print(f'Error Occured: {e}')"
   ]
  },
  {
   "cell_type": "code",
   "execution_count": 77,
   "metadata": {},
   "outputs": [],
   "source": [
    "#gets data from match\n",
    "def get_match_data(match_id = None, region=DEFAULT_REGION):\n",
    "    if not match_id:\n",
    "        raise Exception('Please Select Match ID')\n",
    "    \n",
    "    api_url = f'https://{region}.api.riotgames.com/lol/match/v5/matches/{match_id}'\n",
    "    headers = {\n",
    "        'X-Riot-Token' : RIOT_API_KEY\n",
    "    }\n",
    "\n",
    "    try:\n",
    "        response = requests.get(api_url,headers=headers)\n",
    "        return response.json()\n",
    "    except requests.exceptions.RequestException as e:\n",
    "        print(f'Error Occured: {e}')\n"
   ]
  },
  {
   "cell_type": "code",
   "execution_count": 83,
   "metadata": {},
   "outputs": [],
   "source": [
    "#starts with initial puuid, gets recent 20 matches from that puuid, and gets all unique users from those matches, repeat with the new unique users\n",
    "def get_unique_users(initial_puuid = None, region=DEFAULT_REGION):\n",
    "    unique_users_set = {initial_puuid}\n",
    "    unique_users_list = list(unique_users_set)\n",
    "    current_index = 0\n",
    "    \n",
    "    while len(unique_users_set)<=500:\n",
    "        #cid stands for current user id \n",
    "        print(len(unique_users_set))\n",
    "        cid = unique_users_list[current_index]\n",
    "        current_index+=1\n",
    "\n",
    "        try:\n",
    "            match_history = get_user_matches(cid)\n",
    "            for match_id in match_history:\n",
    "                match_data = get_match_data(match_id)\n",
    "                players = match_data['metadata']['participants']\n",
    "                for player in players:\n",
    "                    if player not in unique_users_set:\n",
    "                        unique_users_set.add(player)\n",
    "                        unique_users_list.append(player)\n",
    "        \n",
    "        except requests.exceptions.RequestException as e:\n",
    "            print(f'Failed to retrieve data for user {cid}: {e}')\n",
    "    return list(unique_users_set)"
   ]
  },
  {
   "cell_type": "code",
   "execution_count": 84,
   "metadata": {},
   "outputs": [
    {
     "name": "stdout",
     "output_type": "stream",
     "text": [
      "1\n",
      "135\n",
      "300\n",
      "463\n",
      "624\n"
     ]
    }
   ],
   "source": [
    "unique_users = get_unique_users(MY_PUUID)\n",
    "print(len(unique_users))"
   ]
  },
  {
   "cell_type": "code",
   "execution_count": 108,
   "metadata": {},
   "outputs": [],
   "source": [
    "def get_unique_matches(unique_users):\n",
    "    unique_matches_set = set()\n",
    "\n",
    "    for i,puuid in enumerate(unique_users):\n",
    "        if i % 50 == 0:\n",
    "            print(len(unique_matches_set))\n",
    "        try:\n",
    "            match_history = get_user_matches(puuid)\n",
    "\n",
    "            for match_id in match_history:\n",
    "                unique_matches_set.add(match_id)\n",
    "                    \n",
    "        except requests.exceptions.RequestException as e:\n",
    "            print(f'Failed to retrieve data for user {puuid}: {e}')\n",
    "        \n",
    "        time.sleep(1)\n",
    "    return list(unique_matches_set)"
   ]
  },
  {
   "cell_type": "code",
   "execution_count": 109,
   "metadata": {},
   "outputs": [
    {
     "name": "stdout",
     "output_type": "stream",
     "text": [
      "0\n",
      "977\n",
      "1923\n",
      "2816\n",
      "3768\n",
      "4639\n",
      "5484\n",
      "6318\n",
      "7135\n",
      "7913\n",
      "8745\n",
      "9560\n",
      "10336\n"
     ]
    }
   ],
   "source": [
    "unique_matches = get_unique_matches(unique_users)"
   ]
  },
  {
   "cell_type": "code",
   "execution_count": 111,
   "metadata": {},
   "outputs": [],
   "source": [
    "with open('unique_users_1.pkl','wb') as f:\n",
    "    pickle.dump(unique_users,f)\n",
    "\n",
    "with open('unique_matches_1.pkl','wb') as f:\n",
    "    pickle.dump(unique_matches,f)"
   ]
  },
  {
   "cell_type": "code",
   "execution_count": 112,
   "metadata": {},
   "outputs": [],
   "source": [
    "with open('unique_users.pkl', 'rb') as f:\n",
    "    unique_users_list = pickle.load(f)\n",
    "\n",
    "with open('unique_matches.pkl', 'rb') as f:\n",
    "    unique_matches_list = pickle.load(f)"
   ]
  },
  {
   "cell_type": "code",
   "execution_count": 118,
   "metadata": {},
   "outputs": [
    {
     "name": "stdout",
     "output_type": "stream",
     "text": [
      "624\n",
      "['NA1_5030228074', 'NA1_5029971709', 'NA1_5029303239', 'NA1_5027975587', 'NA1_5031432548', 'NA1_5027868330', 'NA1_5029130552', 'NA1_5031782941', 'NA1_5026770942', 'NA1_5031867356']\n"
     ]
    }
   ],
   "source": [
    "print(len(unique_users_list))\n",
    "print(unique_matches_list[0:10])"
   ]
  },
  {
   "cell_type": "code",
   "execution_count": 122,
   "metadata": {},
   "outputs": [
    {
     "name": "stdout",
     "output_type": "stream",
     "text": [
      "ARAM\n",
      "14.13.596.7996\n",
      "NA1\n",
      "Vex:False\n",
      "Olaf:False\n",
      "Corki:False\n",
      "Alistar:False\n",
      "Graves:False\n",
      "Velkoz:True\n",
      "Galio:True\n",
      "Ziggs:True\n",
      "Gragas:True\n",
      "Caitlyn:True\n"
     ]
    }
   ],
   "source": [
    "match_data = get_match_data('NA1_5029130552')\n",
    "print(match_data['info']['platformId'])\n",
    "print(match_data[\"info\"][\"gameMode\"])\n",
    "print(match_data[\"info\"][\"gameVersion\"])\n",
    "for i in range(len(match_data['metadata']['participants'])):\n",
    "    print(f'{match_data['info']['participants'][i]['championName']}:{match_data['info']['participants'][i]['win']}')"
   ]
  }
 ],
 "metadata": {
  "kernelspec": {
   "display_name": "Python 3",
   "language": "python",
   "name": "python3"
  },
  "language_info": {
   "codemirror_mode": {
    "name": "ipython",
    "version": 3
   },
   "file_extension": ".py",
   "mimetype": "text/x-python",
   "name": "python",
   "nbconvert_exporter": "python",
   "pygments_lexer": "ipython3",
   "version": "3.12.0"
  }
 },
 "nbformat": 4,
 "nbformat_minor": 2
}
