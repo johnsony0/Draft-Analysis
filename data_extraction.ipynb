{
 "cells": [
  {
   "cell_type": "code",
   "execution_count": 7,
   "metadata": {},
   "outputs": [],
   "source": [
    "import psycopg2\n",
    "import os\n"
   ]
  },
  {
   "cell_type": "code",
   "execution_count": 10,
   "metadata": {},
   "outputs": [],
   "source": [
    "def get_csv(region='ANY',game_mode='ANY',elo='ANY',version='ANY'):\n",
    "    #gets data collected into a csv\n",
    "\n",
    "    #if using sqlalchemy\n",
    "    # engine_name = f\"postgresql://{os.getenv('DB_USER')}:{os.getenv('DB_PASSWORD')}@{os.getenv('DB_HOST')}:{os.getenv('DB_PORT')}/{os.getenv('DB_NAME')}\"\n",
    "    conn = psycopg2.connect(\n",
    "        database = os.getenv('DB_NAME'),\n",
    "        host = os.getenv('DB_HOST'),\n",
    "        user = os.getenv('DB_USER'),\n",
    "        password = os.getenv('DB_PASSWORD'),\n",
    "        port = os.getenv('DB_PORT')\n",
    "    )\n",
    "\n",
    "    os.makedirs('MatchData', exist_ok=True)\n",
    "    csv_path = f'MatchData/{region}_{game_mode}_{elo}_{version}.csv'\n",
    "\n",
    "    cursor = conn.cursor()\n",
    "\n",
    "    # Initialize query parts\n",
    "    query_sql = \"SELECT * FROM match_data\"\n",
    "    params = []\n",
    "    \n",
    "    # Add conditions dynamically based on inputs\n",
    "    if region != 'ANY':\n",
    "        if params:\n",
    "            query_sql += \" AND\"\n",
    "        else:\n",
    "            query_sql += \" WHERE\"\n",
    "        query_sql += \" region = %s\"\n",
    "        params.append(region)\n",
    "    \n",
    "    if game_mode != 'ANY':\n",
    "        if params:\n",
    "            query_sql += \" AND\"\n",
    "        else:\n",
    "            query_sql += \" WHERE\"\n",
    "        query_sql += \" game_mode = %s\"\n",
    "        params.append(game_mode)\n",
    "    \n",
    "    if elo != 'ANY':\n",
    "        if params:\n",
    "            query_sql += \" AND\"\n",
    "        else:\n",
    "            query_sql += \" WHERE\"\n",
    "        query_sql += \" elo LIKE %s\"\n",
    "        params.append(elo + '%')\n",
    "    \n",
    "    if version != 'ANY':\n",
    "        if params:\n",
    "            query_sql += \" AND\"\n",
    "        else:\n",
    "            query_sql += \" WHERE\"\n",
    "        query_sql += \" version LIKE %s\"\n",
    "        params.append(version + '%')\n",
    "\n",
    "    query = cursor.mogrify(query_sql,(params))\n",
    "    query = query.decode('utf-8')\n",
    "\n",
    "    try:\n",
    "        if os.path.exists(csv_path):\n",
    "            print(\"Csv found\")\n",
    "        else:\n",
    "            with open(csv_path,'w') as f:\n",
    "                cursor.copy_expert(\"COPY ({}) TO STDOUT WITH CSV HEADER\".format(query),f)\n",
    "            print(\"Copy to csv successful\")\n",
    "\n",
    "    except (Exception, psycopg2.DatabaseError) as error:\n",
    "        print(error)\n"
   ]
  },
  {
   "cell_type": "code",
   "execution_count": 11,
   "metadata": {},
   "outputs": [
    {
     "name": "stdout",
     "output_type": "stream",
     "text": [
      "Copy to csv successful\n"
     ]
    }
   ],
   "source": [
    "#create code to train on every combination, get csv of entire thing\n",
    "get_csv()"
   ]
  }
 ],
 "metadata": {
  "kernelspec": {
   "display_name": ".venv",
   "language": "python",
   "name": "python3"
  },
  "language_info": {
   "codemirror_mode": {
    "name": "ipython",
    "version": 3
   },
   "file_extension": ".py",
   "mimetype": "text/x-python",
   "name": "python",
   "nbconvert_exporter": "python",
   "pygments_lexer": "ipython3",
   "version": "3.11.6"
  }
 },
 "nbformat": 4,
 "nbformat_minor": 2
}
